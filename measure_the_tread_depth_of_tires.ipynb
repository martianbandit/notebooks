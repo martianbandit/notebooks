{
  "metadata": {
    "kernelspec": {
      "language": "python",
      "display_name": "Python 3",
      "name": "python3"
    },
    "language_info": {
      "name": "python",
      "version": "3.10.13",
      "mimetype": "text/x-python",
      "codemirror_mode": {
        "name": "ipython",
        "version": 3
      },
      "pygments_lexer": "ipython3",
      "nbconvert_exporter": "python",
      "file_extension": ".py"
    },
    "kaggle": {
      "accelerator": "none",
      "dataSources": [
        {
          "sourceId": 7719145,
          "sourceType": "datasetVersion",
          "datasetId": 4508630
        }
      ],
      "isInternetEnabled": true,
      "language": "python",
      "sourceType": "notebook",
      "isGpuEnabled": false
    },
    "colab": {
      "name": "measure the tread depth of tires",
      "provenance": [],
      "include_colab_link": true
    }
  },
  "nbformat_minor": 0,
  "nbformat": 4,
  "cells": [
    {
      "cell_type": "markdown",
      "metadata": {
        "id": "view-in-github",
        "colab_type": "text"
      },
      "source": [
        "<a href=\"https://colab.research.google.com/github/martianbandit/notebooks/blob/main/measure_the_tread_depth_of_tires.ipynb\" target=\"_parent\"><img src=\"https://colab.research.google.com/assets/colab-badge.svg\" alt=\"Open In Colab\"/></a>"
      ]
    },
    {
      "cell_type": "code",
      "source": [
        "import os\n",
        "import numpy as np\n",
        "import cv2\n",
        "from sklearn.model_selection import train_test_split\n",
        "import tensorflow as tf\n",
        "from tensorflow.keras import layers, models\n",
        "\n",
        "# Function to load images and preprocess data\n",
        "def load_data(data_dir, image_height, image_width):\n",
        "    images = []\n",
        "    tread_depths = []\n",
        "\n",
        "    for subdir, _, files in os.walk(data_dir):\n",
        "        for file in files:\n",
        "            if file.endswith('.jpg'):\n",
        "                # Read image\n",
        "                image_path = os.path.join(subdir, file)\n",
        "                image = cv2.imread(image_path)\n",
        "                image = cv2.resize(image, (image_width, image_height))\n",
        "                images.append(image)\n",
        "\n",
        "                # Extract tread depth from filename or metadata\n",
        "                tread_depth_str = ''.join(filter(str.isdigit, file))  # Extract only numerical characters\n",
        "                tread_depth = float(tread_depth_str)  # Convert to float\n",
        "                tread_depths.append(tread_depth)\n",
        "\n",
        "    # Convert lists to numpy arrays\n",
        "    images = np.array(images)\n",
        "    tread_depths = np.array(tread_depths)\n",
        "\n",
        "    return images, tread_depths\n",
        "\n",
        "# Load data\n",
        "data_dir = '/kaggle/input/data707'  # Replace with the path to your dataset directory\n",
        "image_height, image_width = 100, 100  # Specify image dimensions\n",
        "images, tread_depths = load_data(data_dir, image_height, image_width)\n",
        "\n",
        "# Split data into training and validation sets\n",
        "train_images, val_images, train_tread_depths, val_tread_depths = train_test_split(\n",
        "    images, tread_depths, test_size=0.2, random_state=42)\n",
        "\n",
        "# Define the model architecture\n",
        "model = models.Sequential([\n",
        "    layers.Conv2D(32, (3, 3), activation='relu', input_shape=(image_height, image_width, 3)),\n",
        "    layers.MaxPooling2D((2, 2)),\n",
        "    layers.Conv2D(64, (3, 3), activation='relu'),\n",
        "    layers.MaxPooling2D((2, 2)),\n",
        "    layers.Conv2D(64, (3, 3), activation='relu'),\n",
        "    layers.Flatten(),\n",
        "    layers.Dense(64, activation='relu'),\n",
        "    layers.Dense(1)  # Output layer for tread depth prediction\n",
        "])\n",
        "\n",
        "# Compile the model\n",
        "model.compile(optimizer='adam',\n",
        "              loss='mean_squared_error',  # Use MSE loss for regression\n",
        "              metrics=['mae'])  # Mean Absolute Error as evaluation metric\n",
        "\n",
        "# Train the model\n",
        "history = model.fit(train_images, train_tread_depths,\n",
        "                    epochs=10,\n",
        "                    validation_data=(val_images, val_tread_depths))\n",
        "\n",
        "# Evaluate the model\n",
        "val_loss, val_mae = model.evaluate(val_images, val_tread_depths)\n",
        "print(\"Validation Loss:\", val_loss)\n",
        "print(\"Validation MAE:\", val_mae)\n",
        "\n",
        "# Save the model\n",
        "model.save('tread_depth_model.h5')\n"
      ],
      "metadata": {
        "_uuid": "8f2839f25d086af736a60e9eeb907d3b93b6e0e5",
        "_cell_guid": "b1076dfc-b9ad-4769-8c92-a6c4dae69d19",
        "execution": {
          "iopub.status.busy": "2024-02-28T09:40:02.850545Z",
          "iopub.execute_input": "2024-02-28T09:40:02.850987Z",
          "iopub.status.idle": "2024-02-28T09:40:06.745145Z",
          "shell.execute_reply.started": "2024-02-28T09:40:02.850954Z",
          "shell.execute_reply": "2024-02-28T09:40:06.743923Z"
        },
        "trusted": true,
        "id": "dJBz2MOslIA2"
      },
      "execution_count": null,
      "outputs": []
    },
    {
      "cell_type": "code",
      "source": [
        "# Evaluate the model\n",
        "val_loss, val_mae = model.evaluate(val_images, val_tread_depths)\n",
        "print(\"Validation Loss:\", val_loss)\n",
        "print(\"Validation MAE:\", val_mae)\n",
        "\n",
        "# Calculate accuracy (lower MAE is better)\n",
        "accuracy = 1 - (val_mae / np.mean(val_tread_depths))\n",
        "print(\"Accuracy:\", accuracy)\n"
      ],
      "metadata": {
        "execution": {
          "iopub.status.busy": "2024-02-28T09:41:02.437819Z",
          "iopub.execute_input": "2024-02-28T09:41:02.438329Z",
          "iopub.status.idle": "2024-02-28T09:41:02.538477Z",
          "shell.execute_reply.started": "2024-02-28T09:41:02.438292Z",
          "shell.execute_reply": "2024-02-28T09:41:02.537179Z"
        },
        "trusted": true,
        "id": "u00m2-oRlIA5"
      },
      "execution_count": null,
      "outputs": []
    },
    {
      "cell_type": "code",
      "source": [],
      "metadata": {
        "id": "hGkeQzBmlIA5"
      },
      "execution_count": null,
      "outputs": []
    }
  ]
}